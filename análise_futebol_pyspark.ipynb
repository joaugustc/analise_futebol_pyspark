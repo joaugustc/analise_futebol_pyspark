{
  "cells": [
    {
      "cell_type": "markdown",
      "source": [
        "**1. iniciando pyspark**"
      ],
      "metadata": {
        "id": "dxV0ZkW8kJDv"
      }
    },
    {
      "cell_type": "code",
      "source": [
        "#INSTALAR O SPARK NO COLAB\n",
        "!pip install pyspark py4j\n",
        "\n",
        "#IMPORTAR SPARK NO COLAB\n",
        "from pyspark.sql import SparkSession"
      ],
      "metadata": {
        "id": "1_1MKY1XkdL3"
      },
      "execution_count": null,
      "outputs": []
    },
    {
      "cell_type": "markdown",
      "source": [
        "**2. preparação para extrair dados da tabela em html**"
      ],
      "metadata": {
        "id": "rEd5WM_OmhFC"
      }
    },
    {
      "cell_type": "code",
      "source": [
        "#CRIAR SESSÃO SPARK\n",
        "spark = SparkSession.builder.appName(\"HTML to DataFrame\").getOrCreate()"
      ],
      "metadata": {
        "id": "o_CAlSTjmEFD"
      },
      "execution_count": null,
      "outputs": []
    },
    {
      "cell_type": "code",
      "source": [
        "#IMPORTAÇÃO DE BIBLIOTECAS PARA SOLICITAÇÕES HTTP E ANÁLISE DE HTML\n",
        "from bs4 import BeautifulSoup\n",
        "import requests"
      ],
      "metadata": {
        "id": "93NX9I9rld0t"
      },
      "execution_count": null,
      "outputs": []
    },
    {
      "cell_type": "code",
      "source": [
        "#LER O HTML ATRAVÉS DA URL\n",
        "url = \"https://fbref.com/pt/partidas/d3926429/Corinthians-Atletico-Mineiro-2024Abril14-Serie-A\"\n",
        "response = requests.get(url)\n",
        "html_content = response.text"
      ],
      "metadata": {
        "id": "zesgzSlLnl7q"
      },
      "execution_count": null,
      "outputs": []
    },
    {
      "cell_type": "code",
      "source": [
        "#USAR BEAUTIFULSOUP PARA EXTRAIR INFORMAÇÕES\n",
        "soup = BeautifulSoup(html_content, 'html.parser')"
      ],
      "metadata": {
        "id": "srqWIY4nprVO"
      },
      "execution_count": null,
      "outputs": []
    },
    {
      "cell_type": "code",
      "source": [
        "#BUSCAR POR TABELA ESPECÍFICA ATRAVÉS DO ID\n",
        "table = soup.find('table', {'id': 'stats_bf4acd28_possession'})"
      ],
      "metadata": {
        "id": "43tL5La7qbui"
      },
      "execution_count": null,
      "outputs": []
    },
    {
      "cell_type": "markdown",
      "source": [
        "**3. definindo e trabalhando os dataframes**"
      ],
      "metadata": {
        "id": "RMJNQYF8rshW"
      }
    },
    {
      "cell_type": "code",
      "source": [
        "#IMPORTAÇÃO DE PANDAS\n",
        "import pandas as pd"
      ],
      "metadata": {
        "id": "5GJdjBh9r-US"
      },
      "execution_count": null,
      "outputs": []
    },
    {
      "cell_type": "code",
      "source": [
        "#TRANSFORMAR A TABELA HTML EM UM DATAFRAME DO PANDAS\n",
        "df_pandas = pd.read_html(str(table))[0]"
      ],
      "metadata": {
        "id": "I8j7SUXUsVvv"
      },
      "execution_count": null,
      "outputs": []
    },
    {
      "cell_type": "code",
      "source": [
        "#CONVERTER O DATAFRAME DO PANDAS PARA UM DATAFRAME DO PYSPARK\n",
        "df_spark = spark.createDataFrame(df_pandas)"
      ],
      "metadata": {
        "id": "JQqpuq5WszSz"
      },
      "execution_count": null,
      "outputs": []
    },
    {
      "cell_type": "code",
      "source": [
        "#VISUALIZAÇÃO DO DF EM PYSPARK\n",
        "df_spark.show()"
      ],
      "metadata": {
        "id": "_dm2Dnvds7Qa",
        "outputId": "52a98b41-90aa-45aa-8765-53bb000c024d",
        "colab": {
          "base_uri": "https://localhost:8080/"
        }
      },
      "execution_count": null,
      "outputs": [
        {
          "output_type": "stream",
          "name": "stdout",
          "text": [
            "+---------------------------------+---------------------------+-------------------------------+------------------------------+-------------------------------+------------------------------+------------------------+-----------------------+-------------------------+-----------------------------+-------------------------------+-----------------------+-----------------------+-------------------+------------------+-------------------+-------------------+--------------------+--------------------------+------------------------+------------------------+---------------------+--------------------+--------------------+---------------------------------+--------------------+-------------------+--------------------+\n",
            "|('Unnamed: 0_level_0', 'Jogador')|('Unnamed: 1_level_0', '#')|('Unnamed: 2_level_0', 'Nação')|('Unnamed: 3_level_0', 'Pos.')|('Unnamed: 4_level_0', 'Idade')|('Unnamed: 5_level_0', 'Min.')|('Contatos', 'Contatos')|('Contatos', 'Def Pen')|('Contatos', 'Terço Def')|('Contatos', 'Terço Central')|('Contatos', 'Terço de Ataque')|('Contatos', 'Att Pen')|('Contatos', 'Em jogo')|('Dribles', 'Tent')|('Dribles', 'Suc')|('Dribles', 'Suc%')|('Dribles', 'Tkld')|('Dribles', 'Tkld%')|('Conduções', 'Conduções')|('Conduções', 'DistTot')|('Conduções', 'DistPrg')|('Conduções', 'PrgC')|('Conduções', '1/3')|('Conduções', 'CPA')|('Conduções', 'Perda de Domínio')|('Conduções', 'Dis')|('Recepção', 'Rec')|('Recepção', 'PrgR')|\n",
            "+---------------------------------+---------------------------+-------------------------------+------------------------------+-------------------------------+------------------------------+------------------------+-----------------------+-------------------------+-----------------------------+-------------------------------+-----------------------+-----------------------+-------------------+------------------+-------------------+-------------------+--------------------+--------------------------+------------------------+------------------------+---------------------+--------------------+--------------------+---------------------------------+--------------------+-------------------+--------------------+\n",
            "|                     Yuri Alberto|                        9.0|                         br BRA|                            FW|                         23-027|                            90|                      26|                      1|                        1|                            8|                             18|                      6|                     26|                  1|                 0|                0.0|                  1|              1000.0|                        16|                      69|                       4|                    1|                   1|                   1|                                8|                   0|                 18|                   4|\n",
            "|                   Wesley Ribeiro|                       36.0|                         br BRA|                            LW|                         19-040|                            90|                      37|                      0|                        3|                           28|                             11|                      2|                     37|                  7|                 6|              857.0|                  1|               143.0|                        25|                     216|                     134|                    4|                   6|                   1|                                6|                   2|                 29|                   5|\n",
            "|                     Ángel Romero|                       11.0|                         py PAR|                            RW|                         31-285|                            79|                      24|                      0|                        0|                           10|                             14|                      1|                     24|                  1|                 0|                0.0|                  1|              1000.0|                        15|                      57|                      28|                    0|                   0|                   0|                                2|                   1|                 23|                   8|\n",
            "|                       Pedro Raul|                       20.0|                         br BRA|                            RW|                         27-161|                            11|                       5|                      0|                        0|                            3|                              2|                      1|                      5|                  0|                 0|                NaN|                  0|                 NaN|                         0|                       0|                       0|                    0|                   0|                   0|                                0|                   0|                  2|                   2|\n",
            "|                    Rodrigo Garro|                       10.0|                         ar ARG|                            AM|                         26-101|                            75|                      53|                      0|                        1|                           37|                             16|                      2|                     53|                  2|                 1|              500.0|                  1|               500.0|                        21|                     140|                      39|                    1|                   0|                   0|                                2|                   2|                 32|                   1|\n",
            "|                    Igor Coronado|                       77.0|                         br BRA|                            AM|                         31-240|                            15|                      15|                      0|                        0|                            9|                              6|                      0|                     15|                  1|                 1|             1000.0|                  0|                 0.0|                         9|                      57|                      37|                    2|                   2|                   0|                                1|                   0|                 13|                   1|\n",
            "|                      Fausto Vera|                        5.0|                         ar ARG|                            DM|                         24-019|                            71|                      41|                      0|                        0|                           37|                              4|                      0|                     41|                  0|                 0|                NaN|                  0|                 NaN|                        22|                     149|                      74|                    3|                   0|                   0|                                0|                   1|                 30|                   1|\n",
            "|                           Maycon|                        7.0|                         br BRA|                            DM|                         26-274|                            19|                      22|                      0|                        5|                           13|                              4|                      0|                     22|                  0|                 0|                NaN|                  0|                 NaN|                         7|                     108|                      90|                    3|                   1|                   0|                                0|                   0|                 12|                   1|\n",
            "|                          Raniele|                       14.0|                         br BRA|                         DM,CB|                         27-105|                            90|                      48|                      2|                       11|                           30|                              7|                      1|                     48|                  1|                 0|                0.0|                  1|              1000.0|                        18|                     116|                      57|                    1|                   1|                   0|                                1|                   0|                 29|                   2|\n",
            "|                             Hugo|                       46.0|                         br BRA|                            LB|                         26-229|                            90|                      54|                      2|                       16|                           31|                              7|                      2|                     54|                  0|                 0|                NaN|                  0|                 NaN|                         9|                      82|                      29|                    1|                   0|                   0|                                1|                   0|                 23|                   2|\n",
            "|                 Gustavo Henrique|                       13.0|                         br BRA|                            CB|                         31-021|                            71|                      32|                      1|                       11|                           21|                              0|                      0|                     32|                  0|                 0|                NaN|                  0|                 NaN|                         9|                      27|                      19|                    0|                   0|                   0|                                1|                   0|                 14|                   0|\n",
            "|                         Paulinho|                        8.0|                         br BRA|                            DM|                         35-264|                            19|                      12|                      0|                        3|                            5|                              4|                      3|                     12|                  0|                 0|                NaN|                  0|                 NaN|                         2|                       5|                       3|                    0|                   1|                   0|                                0|                   0|                  7|                   0|\n",
            "|             Félix Torres Caicedo|                        3.0|                         ec ECU|                            CB|                         27-094|                            90|                      50|                      3|                       16|                           32|                              3|                      1|                     50|                  1|                 1|             1000.0|                  0|                 0.0|                        14|                      72|                      51|                    1|                   0|                   0|                                0|                   0|                 28|                   0|\n",
            "|                           Fagner|                       23.0|                         br BRA|                            RB|                         34-308|                            45|                      22|                      1|                        5|                           12|                              5|                      0|                     22|                  0|                 0|                NaN|                  0|                 NaN|                         7|                      42|                      36|                    1|                   0|                   0|                                0|                   0|                 12|                   1|\n",
            "|                      Matheuzinho|                        2.0|                         br BRA|                            RB|                         23-219|                            45|                      33|                      2|                        8|                           12|                             13|                      1|                     33|                  0|                 0|                NaN|                  0|                 NaN|                        13|                      56|                      33|                    0|                   1|                   0|                                0|                   0|                 21|                   8|\n",
            "|                           Cássio|                       12.0|                         br BRA|                            GK|                         36-313|                            90|                      22|                     16|                       22|                            0|                              0|                      0|                     22|                  0|                 0|                NaN|                  0|                 NaN|                         6|                      62|                      43|                    0|                   0|                   0|                                0|                   0|                  4|                   0|\n",
            "|                     17 Jogadores|                        NaN|                            NaN|                           NaN|                            NaN|                           990|                     496|                     28|                      102|                          288|                            114|                     20|                    496|                 14|                 9|              643.0|                  5|               357.0|                       193|                    1258|                     677|                   18|                  13|                   2|                               22|                   6|                297|                  36|\n",
            "+---------------------------------+---------------------------+-------------------------------+------------------------------+-------------------------------+------------------------------+------------------------+-----------------------+-------------------------+-----------------------------+-------------------------------+-----------------------+-----------------------+-------------------+------------------+-------------------+-------------------+--------------------+--------------------------+------------------------+------------------------+---------------------+--------------------+--------------------+---------------------------------+--------------------+-------------------+--------------------+\n",
            "\n"
          ]
        }
      ]
    },
    {
      "cell_type": "code",
      "source": [
        "#CRIANDO DATAFRAME DE INFORMAÇÕES DE POSICIONAMENTO EM PYSPARK\n",
        "#DADOS:\n",
        "posicionamento = [\n",
        "    ('Goleiro', 2, 40),\n",
        "    ('Ataque', 90, 40),\n",
        "    ('Meio-atacante-esquerda', 85, 15),\n",
        "    ('Meio-atacante-direita', 85, 65),\n",
        "    ('Meio-atacante-meia', 70, 40),\n",
        "    ('Meio-defensor-direita', 44, 60),\n",
        "    ('Meio-defensor-centro', 44, 40),\n",
        "    ('Meio-defensor-esquerda', 44, 20),\n",
        "    ('Defesa-centro', 30, 40),\n",
        "    ('Defesa-esquerda', 24, 30),\n",
        "    ('Defesa-direita', 24, 50),\n",
        "    ('Lateral-esquerdo', 55, 10),\n",
        "    ('Lateral-direito', 55, 70)\n",
        "]\n",
        "\n",
        "df_posicionamento = spark.createDataFrame(posicionamento, ['posicao', 'y', 'x'])"
      ],
      "metadata": {
        "id": "EpDE4j4RtVmX"
      },
      "execution_count": null,
      "outputs": []
    },
    {
      "cell_type": "code",
      "source": [
        "#CRIANDO DATAFRAME DE INFORMAÇÕES DOS JOGADORES EM PYSPARK\n",
        "#DADOS:\n",
        "jogadores = [\n",
        "    ('Yuri Alberto', 'Ataque'),\n",
        "    ('Wesley Ribeiro', 'Meio-atacante-esquerda'),\n",
        "    ('Ángel Romero', 'Meio-atacante-direita'),\n",
        "    ('Pedro Raul', 'Meio-atacante-direita'),\n",
        "    ('Rodrigo Garro', 'Meio-atacante-meia'),\n",
        "    ('Igor Coronado', 'Meio-atacante-meia'),\n",
        "    ('Fausto Vera', 'Meio-defensor-direita'),\n",
        "    ('Maycon', 'Meio-defensor-direita'),\n",
        "    ('Raniele', 'Meio-defensor-esquerda'),\n",
        "    ('Hugo', 'Defesa-direita'),\n",
        "    ('Gustavo Henrique', 'Defesa-centro'),\n",
        "    ('Paulinho', 'Meio-atacante-meia'),\n",
        "    ('Félix Torres Caicedo', 'Defesa-esquerda'),\n",
        "    ('Fagner', 'Lateral-esquerdo'),\n",
        "    ('Matheuzinho', 'Lateral-direito'),\n",
        "    ('Cássio', 'Goleiro')\n",
        "]\n",
        "\n",
        "df_jogadores = spark.createDataFrame(jogadores, ['nome', 'posicao'])"
      ],
      "metadata": {
        "id": "BHiQPZ4-uTSE"
      },
      "execution_count": null,
      "outputs": []
    },
    {
      "cell_type": "code",
      "source": [
        "#JUNTAR OS DATAFRAMES COM INFORMAÇÕES DE JOGADORES E POSICIONAMENTOS ATRAVES DA POSICAO\n",
        "df_completo = df_jogadores.join(df_posicionamento, on='posicao', how='left')"
      ],
      "metadata": {
        "id": "MXLySTYFux9G"
      },
      "execution_count": null,
      "outputs": []
    },
    {
      "cell_type": "code",
      "source": [
        "#VISUALIZAR MERGE TRUNCANDO AS COLUNAS\n",
        "df_completo.show(truncate=False)"
      ],
      "metadata": {
        "id": "xvtH_zDSvVk0",
        "outputId": "13b51c63-dd3f-4039-e06e-885d8e0e83b2",
        "colab": {
          "base_uri": "https://localhost:8080/"
        }
      },
      "execution_count": null,
      "outputs": [
        {
          "output_type": "stream",
          "name": "stdout",
          "text": [
            "+----------------------+--------------------+---+---+\n",
            "|posicao               |nome                |y  |x  |\n",
            "+----------------------+--------------------+---+---+\n",
            "|Meio-atacante-direita |Ángel Romero        |85 |65 |\n",
            "|Meio-atacante-direita |Pedro Raul          |85 |65 |\n",
            "|Ataque                |Yuri Alberto        |90 |40 |\n",
            "|Meio-atacante-esquerda|Wesley Ribeiro      |85 |15 |\n",
            "|Meio-atacante-meia    |Rodrigo Garro       |70 |40 |\n",
            "|Meio-atacante-meia    |Igor Coronado       |70 |40 |\n",
            "|Meio-defensor-direita |Fausto Vera         |44 |60 |\n",
            "|Meio-defensor-direita |Maycon              |44 |60 |\n",
            "|Goleiro               |Cássio              |2  |40 |\n",
            "|Lateral-esquerdo      |Fagner              |55 |10 |\n",
            "|Meio-defensor-esquerda|Raniele             |44 |20 |\n",
            "|Defesa-centro         |Gustavo Henrique    |30 |40 |\n",
            "|Meio-atacante-meia    |Paulinho            |70 |40 |\n",
            "|Defesa-esquerda       |Félix Torres Caicedo|24 |30 |\n",
            "|Defesa-direita        |Hugo                |24 |50 |\n",
            "|Lateral-direito       |Matheuzinho         |55 |70 |\n",
            "+----------------------+--------------------+---+---+\n",
            "\n"
          ]
        }
      ]
    },
    {
      "cell_type": "markdown",
      "source": [
        "**4. ajustando e complementando a análise através de funções do pyspark sql**"
      ],
      "metadata": {
        "id": "QQZqDc2CwYXQ"
      }
    },
    {
      "cell_type": "code",
      "source": [
        "#IMPORTAÇÃO DE FUNÇÕES\n",
        "from pyspark.sql.functions import sum\n",
        "from pyspark.sql.functions import round\n",
        "from pyspark.sql.functions import col\n",
        "from pyspark.sql.functions import lit"
      ],
      "metadata": {
        "id": "x096ZkjtwcTC"
      },
      "execution_count": null,
      "outputs": []
    },
    {
      "cell_type": "code",
      "source": [
        "#CRIAR UM DATAFRAME SEM A LINHA COM INFORMAÇÕES DO TOTAL DE JOGADORES\n",
        "df_filtered = df_spark.filter(col(\"('Unnamed: 0_level_0', 'Jogador')\") != '17 Jogadores')"
      ],
      "metadata": {
        "id": "BJM2yPlzwwGG"
      },
      "execution_count": null,
      "outputs": []
    },
    {
      "cell_type": "code",
      "source": [
        "#CRIAR VARIÁVEIS NECESSÁRIAS PARA ANÁLISE\n",
        "\n",
        "soma_total_cond = df_filtered.agg({\"('Conduções', 'Conduções')\": \"sum\"}).collect()[0][0]\n",
        "\n",
        "df_filtered = df_filtered.withColumn(\n",
        "    \"%Conduções\",\n",
        "    round((col(\"('Conduções', 'Conduções')\") / soma_total_cond * 100), 2)\n",
        ")\n",
        "\n",
        "soma_total_cdis = df_filtered.agg({\"('Conduções', 'DistTot')\": \"sum\"}).collect()[0][0]\n",
        "\n",
        "df_filtered = df_filtered.withColumn(\n",
        "    \"%DistTotal\",\n",
        "    round((col(\"('Conduções', 'DistTot')\") / soma_total_cdis * 100), 2)\n",
        ")\n",
        "\n",
        "soma_total_cdisat = df_filtered.agg({\"('Conduções', 'DistPrg')\": \"sum\"}).collect()[0][0]\n",
        "\n",
        "df_filtered = df_filtered.withColumn(\n",
        "    \"%DistAtaque\",\n",
        "    round((col(\"('Conduções', 'DistPrg')\") / soma_total_cdisat * 100), 2)\n",
        ")\n",
        "\n",
        "soma_total_cat9m = df_filtered.agg({\"('Conduções', 'PrgC')\": \"sum\"}).collect()[0][0]\n",
        "\n",
        "df_filtered = df_filtered.withColumn(\n",
        "    \"%ProjAtaque9m\",\n",
        "    round((col(\"('Conduções', 'PrgC')\") / soma_total_cat9m * 100), 2)\n",
        ")\n",
        "\n",
        "soma_total_perdadom = df_filtered.agg({\"('Conduções', 'Perda de Domínio')\": \"sum\"}).collect()[0][0]\n",
        "\n",
        "df_filtered = df_filtered.withColumn(\n",
        "    \"%PerdaDomínio\",\n",
        "    round((col(\"('Conduções', 'Perda de Domínio')\") / soma_total_perdadom * 100), 2)\n",
        ")\n",
        "\n",
        "soma_total_desarmes = df_filtered.agg({\"('Conduções', 'Dis')\": \"sum\"}).collect()[0][0]\n",
        "\n",
        "df_filtered = df_filtered.withColumn(\n",
        "    \"%Desarmes\",\n",
        "    round((col(\"('Conduções', 'Dis')\") / soma_total_desarmes * 100), 2)\n",
        ")"
      ],
      "metadata": {
        "id": "iFP-sK_ixSgN"
      },
      "execution_count": null,
      "outputs": []
    },
    {
      "cell_type": "code",
      "source": [
        "#JUNTAR OS DATAFRAMES JÁ CRIADOS\n",
        "df_merged = df_filtered.join(\n",
        "    df_completo,\n",
        "    df_filtered[\"('Unnamed: 0_level_0', 'Jogador')\"] == df_completo['nome'],\n",
        "    how='inner'\n",
        ")"
      ],
      "metadata": {
        "id": "kMx5iD97z6Hy"
      },
      "execution_count": null,
      "outputs": []
    },
    {
      "cell_type": "code",
      "source": [
        "#CRIAR NOVAS COLUNAS NECESSÁRIAS PARA ANÁLISE NO DATAFRAME MAIS ATUALIZADO\n",
        "df_merged = df_merged.withColumn(\n",
        "    \"inicio_ataque_x\", col(\"x\")\n",
        ").withColumn(\n",
        "    \"inicio_ataque_y\", col(\"y\")\n",
        ").withColumn(\n",
        "    \"fim_ataque_y\", round(col(\"y\") + ((col(\"%DistAtaque\") * 120) / 100),2)\n",
        ").withColumn(\n",
        "    \"fim_ataque_x\", lit(40)\n",
        ")"
      ],
      "metadata": {
        "id": "LxU3Kqmp0KrM"
      },
      "execution_count": null,
      "outputs": []
    },
    {
      "cell_type": "code",
      "source": [
        "#SELECIONAR VARIÁVEIS DE INTERESSE PARA VISUALIZAÇÃO ORGANIZADA\n",
        "df_merged.select(\n",
        "\"('Unnamed: 0_level_0', 'Jogador')\", \"%Conduções\", \"%DistTotal\", \"%DistAtaque\", \"%ProjAtaque9m\", \"%PerdaDomínio\", \"%Desarmes\",\n",
        "  \"x\",\"y\",\"inicio_ataque_x\",\"inicio_ataque_y\",\"fim_ataque_x\",\"fim_ataque_y\").show(truncate=False)"
      ],
      "metadata": {
        "id": "I4Oc2OfA0ajv",
        "outputId": "46543705-e9b8-40ba-ffdd-7e7cc748a8fb",
        "colab": {
          "base_uri": "https://localhost:8080/"
        }
      },
      "execution_count": null,
      "outputs": [
        {
          "output_type": "stream",
          "name": "stdout",
          "text": [
            "+---------------------------------+----------+----------+-----------+-------------+-------------+---------+---+---+---------------+---------------+------------+------------+\n",
            "|('Unnamed: 0_level_0', 'Jogador')|%Conduções|%DistTotal|%DistAtaque|%ProjAtaque9m|%PerdaDomínio|%Desarmes|x  |y  |inicio_ataque_x|inicio_ataque_y|fim_ataque_x|fim_ataque_y|\n",
            "+---------------------------------+----------+----------+-----------+-------------+-------------+---------+---+---+---------------+---------------+------------+------------+\n",
            "|Wesley Ribeiro                   |12.95     |17.17     |19.79      |22.22        |27.27        |33.33    |15 |85 |15             |85             |40          |108.75      |\n",
            "|Rodrigo Garro                    |10.88     |11.13     |5.76       |5.56         |9.09         |33.33    |40 |70 |40             |70             |40          |76.91       |\n",
            "|Pedro Raul                       |0.0       |0.0       |0.0        |0.0          |0.0          |0.0      |65 |85 |65             |85             |40          |85.0        |\n",
            "|Yuri Alberto                     |8.29      |5.48      |0.59       |5.56         |36.36        |0.0      |40 |90 |40             |90             |40          |90.71       |\n",
            "|Fausto Vera                      |11.4      |11.84     |10.93      |16.67        |0.0          |16.67    |60 |44 |60             |44             |40          |57.12       |\n",
            "|Igor Coronado                    |4.66      |4.53      |5.47       |11.11        |4.55         |0.0      |40 |70 |40             |70             |40          |76.56       |\n",
            "|Ángel Romero                     |7.77      |4.53      |4.14       |0.0          |9.09         |16.67    |65 |85 |65             |85             |40          |89.97       |\n",
            "|Maycon                           |3.63      |8.59      |13.29      |16.67        |0.0          |0.0      |60 |44 |60             |44             |40          |59.95       |\n",
            "|Matheuzinho                      |6.74      |4.45      |4.87       |0.0          |0.0          |0.0      |70 |55 |70             |55             |40          |60.84       |\n",
            "|Cássio                           |3.11      |4.93      |6.35       |0.0          |0.0          |0.0      |40 |2  |40             |2              |40          |9.62        |\n",
            "|Paulinho                         |1.04      |0.4       |0.44       |0.0          |0.0          |0.0      |40 |70 |40             |70             |40          |70.53       |\n",
            "|Raniele                          |9.33      |9.22      |8.42       |5.56         |4.55         |0.0      |20 |44 |20             |44             |40          |54.1        |\n",
            "|Hugo                             |4.66      |6.52      |4.28       |5.56         |4.55         |0.0      |50 |24 |50             |24             |40          |29.14       |\n",
            "|Fagner                           |3.63      |3.34      |5.32       |5.56         |0.0          |0.0      |10 |55 |10             |55             |40          |61.38       |\n",
            "|Gustavo Henrique                 |4.66      |2.15      |2.81       |0.0          |4.55         |0.0      |40 |30 |40             |30             |40          |33.37       |\n",
            "|Félix Torres Caicedo             |7.25      |5.72      |7.53       |5.56         |0.0          |0.0      |30 |24 |30             |24             |40          |33.04       |\n",
            "+---------------------------------+----------+----------+-----------+-------------+-------------+---------+---+---+---------------+---------------+------------+------------+\n",
            "\n"
          ]
        }
      ]
    },
    {
      "cell_type": "code",
      "source": [
        "#CRIAR LISTA COM JOGADORES TITULARES\n",
        "jogadores_titulares = ['Cássio','Fagner','Félix Torres Caicedo','Hugo','Gustavo Henrique',\n",
        "                       'Fausto Vera','Raniele','Rodrigo Garro','Ángel Romero','Yuri Alberto','Wesley Ribeiro']"
      ],
      "metadata": {
        "id": "MW-fuz2J0yBn"
      },
      "execution_count": null,
      "outputs": []
    },
    {
      "cell_type": "code",
      "source": [
        "#FILTRAR LINHAS ONDE A COLUNA JOGADOR DO DATAFRAME CORRESPONDE COM A LISTA CRIADA\n",
        "df_titulares = df_merged.filter(col(\"('Unnamed: 0_level_0', 'Jogador')\").isin(jogadores_titulares))"
      ],
      "metadata": {
        "id": "3acruPuv1KN7"
      },
      "execution_count": null,
      "outputs": []
    },
    {
      "cell_type": "markdown",
      "source": [
        "**5. plotagem**"
      ],
      "metadata": {
        "id": "O1cLZUrV1nUK"
      }
    },
    {
      "cell_type": "code",
      "source": [
        "#CONVERTER O DATAFRAME PARA PANDAS\n",
        "df_titulares_pandas = df_titulares.toPandas()"
      ],
      "metadata": {
        "id": "l5Bm6Dzv1_YO"
      },
      "execution_count": null,
      "outputs": []
    },
    {
      "cell_type": "code",
      "source": [
        "#INSTALAÇÕES E IMPORTAÇÕES NECESSÁRIAS\n",
        "!pip install mplsoccer\n",
        "import matplotlib.pyplot as plt\n",
        "from mplsoccer import VerticalPitch"
      ],
      "metadata": {
        "id": "TmD_EMUL2O4p"
      },
      "execution_count": null,
      "outputs": []
    },
    {
      "cell_type": "code",
      "source": [
        "#PLOTAGEM\n",
        "#CRIAR O OBJETO DO PITCH\n",
        "pitch = VerticalPitch(pitch_color='#333333', axis=True, label=True, tick=True)\n",
        "\n",
        "#CRIAR A FIGURA E O EIXO\n",
        "fig, ax = pitch.draw()\n",
        "\n",
        "#PLOTAR OS PONTOS\n",
        "ax.scatter(df_titulares_pandas['x'], df_titulares_pandas['y'], c='white', linewidth=3, s=50)\n",
        "\n",
        "#ADICIONAR SETAS\n",
        "pitch.arrows(df_titulares_pandas['y'], df_titulares_pandas['x'],\n",
        "             df_titulares_pandas['fim_ataque_y'], df_titulares_pandas['fim_ataque_x'],\n",
        "             ax=ax, zorder=1, color='#990000')\n",
        "\n",
        "#EXIBIR O GRÁFICO\n",
        "plt.show()"
      ],
      "metadata": {
        "id": "9P-qPCQX2el-",
        "outputId": "cf98c59c-f3f2-4973-bf54-412dab7f6a11",
        "colab": {
          "base_uri": "https://localhost:8080/",
          "height": 487
        }
      },
      "execution_count": null,
      "outputs": [
        {
          "output_type": "display_data",
          "data": {
            "text/plain": [
              "<Figure size 640x480 with 1 Axes>"
            ],
            "image/png": "[encoded data removed]"
          },
          "metadata": {}
        }
      ]
    }
  ],
  "metadata": {
    "colab": {
      "provenance": []
    },
    "kernelspec": {
      "display_name": "Python 3",
      "name": "python3"
    }
  },
  "nbformat": 4,
  "nbformat_minor": 0
}